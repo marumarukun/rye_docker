{
 "cells": [
  {
   "cell_type": "code",
   "execution_count": 3,
   "metadata": {},
   "outputs": [
    {
     "name": "stdout",
     "output_type": "stream",
     "text": [
      "[1 2 3]\n",
      "42\n",
      "{'objective': 'regression', 'metric': 'rmse', 'verbosity': -1, 'boosting_type': 'gbdt', 'learning_rate': 0.01, 'num_leaves': 31, 'min_child_samples': 20, 'max_depth': -1, 'subsample_freq': 0, 'bagging_seed': 0, 'feature_fraction': 0.9, 'bagging_fraction': 0.8, 'reg_alpha': 0.1, 'reg_lambda': 0.1}\n"
     ]
    }
   ],
   "source": [
    "import numpy as np\n",
    "\n",
    "from src.config import Config\n",
    "\n",
    "cfg = Config().get_cfg()\n",
    "\n",
    "print(np.array([1, 2, 3]))\n",
    "print(cfg.seed)\n",
    "print(cfg.lgb)\n"
   ]
  }
 ],
 "metadata": {
  "kernelspec": {
   "display_name": ".venv",
   "language": "python",
   "name": "python3"
  },
  "language_info": {
   "codemirror_mode": {
    "name": "ipython",
    "version": 3
   },
   "file_extension": ".py",
   "mimetype": "text/x-python",
   "name": "python",
   "nbconvert_exporter": "python",
   "pygments_lexer": "ipython3",
   "version": "3.11.8"
  }
 },
 "nbformat": 4,
 "nbformat_minor": 2
}
